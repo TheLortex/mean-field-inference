{
 "cells": [
  {
   "cell_type": "code",
   "execution_count": 34,
   "metadata": {
    "collapsed": true
   },
   "outputs": [],
   "source": [
    "from __future__ import print_function\n",
    "import numpy as np\n",
    "import tensorflow as tf \n",
    "import mf\n",
    "import matplotlib.pyplot as plt\n",
    "import sudoku\n",
    "from tqdm import tqdm"
   ]
  },
  {
   "cell_type": "code",
   "execution_count": 2,
   "metadata": {
    "collapsed": true
   },
   "outputs": [],
   "source": [
    "%matplotlib inline\n",
    "np.set_printoptions(precision=3, suppress=True)\n",
    "os.environ['TF_CPP_MIN_LOG_LEVEL'] = '3'"
   ]
  },
  {
   "cell_type": "code",
   "execution_count": 70,
   "metadata": {
    "collapsed": true
   },
   "outputs": [],
   "source": [
    "meanfield_iters = 50\n",
    "n_epoch = 50\n",
    "learning_rate = 0.01\n",
    "n_modes = 2\n",
    "n = 10\n",
    "p = 3\n",
    "n_samples = 1000\n",
    "batch_size = 50"
   ]
  },
  {
   "cell_type": "code",
   "execution_count": 71,
   "metadata": {
    "collapsed": true
   },
   "outputs": [],
   "source": [
    "def grid_to_clip(grid):\n",
    "    n_samples,n,_,p = grid.shape\n",
    "    res = np.zeros((n_samples,2,n,n,p))\n",
    "    res[:,0,:,:,:] = -50\n",
    "    res[:,1,:,:,:] = np.where(grid == 1, -50, 50)\n",
    "    return res\n",
    "\n",
    "def to_prob(grid,p):\n",
    "    m,_ = grid.shape\n",
    "    prob_grid = np.zeros((m,m,p))\n",
    "    for x in range(m):\n",
    "        for y in range(m):\n",
    "            if grid[x,y] != p:\n",
    "                prob_grid[x,y,grid[x,y]] = 1\n",
    "    return prob_grid"
   ]
  },
  {
   "cell_type": "code",
   "execution_count": 111,
   "metadata": {
    "collapsed": true
   },
   "outputs": [],
   "source": [
    "dataset_X, dataset_Y = [],[]\n",
    "\n",
    "\n",
    "for _ in range(n_samples):\n",
    "    x,y = np.random.randint(0,n),np.random.randint(0,n)\n",
    "    sample = np.zeros((n,n),dtype=np.int32)\n",
    "    \n",
    "    if np.random.randint(0,2) == 0:\n",
    "        sample = sample+2\n",
    "        sample[(x+1)%n,(y+1)%n] = 0\n",
    "        sample[x,y] = 1\n",
    "    else:\n",
    "        sample[(x+1)%n,(y+1)%n] = 2\n",
    "        sample[x,y] = 1\n",
    "        \n",
    "    inpt = np.zeros((n,n),dtype=np.int32)+p\n",
    "    inpt[x,y] = 1\n",
    "    dataset_X.append(inpt)\n",
    "    dataset_Y.append(sample)\n",
    "\n",
    "dataset_X = [to_prob(x,p) for x in dataset_X]\n",
    "dataset_Y = [to_prob(x,p) for x in dataset_Y]\n",
    "\n",
    "inputs = grid_to_clip(np.array(dataset_X))\n",
    "labels = np.array(dataset_Y)"
   ]
  },
  {
   "cell_type": "code",
   "execution_count": 112,
   "metadata": {},
   "outputs": [
    {
     "name": "stdout",
     "output_type": "stream",
     "text": [
      "[[0 0 0 0 0 0 0 0 0 0]\n",
      " [0 0 0 0 0 0 0 0 0 0]\n",
      " [0 0 0 0 0 0 0 0 0 0]\n",
      " [0 0 0 0 0 0 0 0 0 0]\n",
      " [0 0 0 0 0 0 0 0 0 0]\n",
      " [0 0 0 0 0 0 0 0 0 0]\n",
      " [0 0 0 0 0 0 0 0 0 0]\n",
      " [0 0 0 0 0 0 0 0 0 0]\n",
      " [0 0 1 0 0 0 0 0 0 0]\n",
      " [0 0 0 0 0 0 0 0 0 0]]\n"
     ]
    }
   ],
   "source": [
    "print(sudoku.infer_grid(dataset_X[0]))"
   ]
  },
  {
   "cell_type": "code",
   "execution_count": 114,
   "metadata": {},
   "outputs": [
    {
     "name": "stdout",
     "output_type": "stream",
     "text": [
      "(50, 10, 10, 3, 3)\n",
      "(10, 10, 3, 3)\n",
      "tf graph is built\n"
     ]
    },
    {
     "name": "stderr",
     "output_type": "stream",
     "text": [
      "\n",
      "epoch:   0%|          | 0/50 [00:00<?, ?it/s]\u001b[A\n",
      "epoch:   2%|▏         | 1/50 [00:07<06:27,  7.91s/it]\u001b[A\n",
      "\n",
      "epoch:   4%|▍         | 2/50 [00:14<05:54,  7.38s/it]\u001b[A\n",
      "epoch:   6%|▌         | 3/50 [00:20<05:29,  7.02s/it]\u001b[A\n",
      "epoch:   8%|▊         | 4/50 [00:26<05:09,  6.72s/it]\u001b[A\n",
      "epoch:  10%|█         | 5/50 [00:32<04:53,  6.51s/it]\u001b[A\n",
      "epoch:  12%|█▏        | 6/50 [00:38<04:41,  6.41s/it]\u001b[A\n",
      "epoch:  14%|█▍        | 7/50 [00:44<04:28,  6.25s/it]\u001b[A\n",
      "epoch:  16%|█▌        | 8/50 [00:50<04:20,  6.21s/it]\u001b[A\n",
      "epoch:  18%|█▊        | 9/50 [00:56<04:13,  6.18s/it]\u001b[A\n",
      "epoch:  20%|██        | 10/50 [01:02<04:06,  6.16s/it]\u001b[A\n",
      "epoch:  22%|██▏       | 11/50 [01:08<03:59,  6.13s/it]\u001b[A\n",
      "epoch:  24%|██▍       | 12/50 [01:14<03:52,  6.11s/it]\u001b[A\n",
      "epoch:  26%|██▌       | 13/50 [01:20<03:45,  6.10s/it]\u001b[A\n",
      "epoch:  28%|██▊       | 14/50 [01:26<03:38,  6.07s/it]\u001b[A\n",
      "epoch:  30%|███       | 15/50 [01:32<03:32,  6.08s/it]\u001b[A\n",
      "epoch:  32%|███▏      | 16/50 [01:39<03:27,  6.11s/it]\u001b[A\n",
      "epoch:  34%|███▍      | 17/50 [01:45<03:22,  6.14s/it]\u001b[A\n",
      "epoch:  36%|███▌      | 18/50 [01:51<03:17,  6.16s/it]\u001b[A\n",
      "epoch:  38%|███▊      | 19/50 [01:57<03:10,  6.16s/it]\u001b[A\n",
      "epoch:  40%|████      | 20/50 [02:03<03:04,  6.16s/it]\u001b[A\n",
      "epoch:  42%|████▏     | 21/50 [02:09<02:57,  6.13s/it]\u001b[A\n",
      "epoch:  44%|████▍     | 22/50 [02:15<02:51,  6.11s/it]\u001b[A\n",
      "epoch:  46%|████▌     | 23/50 [02:22<02:45,  6.11s/it]\u001b[A\n",
      "epoch:  48%|████▊     | 24/50 [02:28<02:39,  6.12s/it]\u001b[A\n",
      "epoch:  50%|█████     | 25/50 [02:34<02:31,  6.08s/it]\u001b[A\n",
      "epoch:  52%|█████▏    | 26/50 [02:40<02:26,  6.09s/it]\u001b[A\n",
      "epoch:  54%|█████▍    | 27/50 [02:46<02:21,  6.13s/it]\u001b[A\n",
      "epoch:  56%|█████▌    | 28/50 [02:52<02:14,  6.09s/it]\u001b[A\n",
      "epoch:  58%|█████▊    | 29/50 [02:58<02:08,  6.12s/it]\u001b[A\n",
      "epoch:  60%|██████    | 30/50 [03:04<02:01,  6.09s/it]\u001b[A\n",
      "epoch:  62%|██████▏   | 31/50 [03:11<01:57,  6.17s/it]\u001b[A\n",
      "epoch:  64%|██████▍   | 32/50 [03:17<01:49,  6.08s/it]\u001b[A\n",
      "epoch:  66%|██████▌   | 33/50 [03:23<01:43,  6.11s/it]\u001b[A\n",
      "epoch:  68%|██████▊   | 34/50 [03:29<01:38,  6.15s/it]\u001b[A\n",
      "epoch:  70%|███████   | 35/50 [03:35<01:32,  6.15s/it]\u001b[A\n",
      "epoch:  72%|███████▏  | 36/50 [03:41<01:26,  6.18s/it]\u001b[A\n",
      "epoch:  74%|███████▍  | 37/50 [03:48<01:20,  6.22s/it]\u001b[A\n",
      "epoch:  76%|███████▌  | 38/50 [03:54<01:14,  6.21s/it]\u001b[A\n",
      "epoch:  78%|███████▊  | 39/50 [04:00<01:07,  6.18s/it]\u001b[A\n",
      "epoch:  80%|████████  | 40/50 [04:06<01:01,  6.16s/it]\u001b[A\n",
      "epoch:  82%|████████▏ | 41/50 [04:12<00:55,  6.13s/it]\u001b[A\n",
      "epoch:  84%|████████▍ | 42/50 [04:18<00:49,  6.14s/it]\u001b[A\n",
      "epoch:  86%|████████▌ | 43/50 [04:24<00:42,  6.12s/it]\u001b[A\n",
      "epoch:  88%|████████▊ | 44/50 [04:30<00:36,  6.11s/it]\u001b[A\n",
      "epoch:  90%|█████████ | 45/50 [04:37<00:30,  6.16s/it]\u001b[A\n",
      "epoch:  92%|█████████▏| 46/50 [04:43<00:24,  6.19s/it]\u001b[A\n",
      "epoch:  94%|█████████▍| 47/50 [04:49<00:18,  6.16s/it]\u001b[A\n",
      "epoch:  96%|█████████▌| 48/50 [04:55<00:12,  6.22s/it]\u001b[A\n",
      "epoch:  98%|█████████▊| 49/50 [05:01<00:06,  6.15s/it]\u001b[A\n",
      "epoch: 100%|██████████| 50/50 [05:08<00:00,  6.16s/it]\u001b[A\n",
      "\u001b[A"
     ]
    }
   ],
   "source": [
    "tf_samples = tf.placeholder(tf.float32,[None, n, n, p])\n",
    "links = tf.Variable(tf.zeros([n,n,p,p]))\n",
    "links_sym = links+tf.transpose(links, [0, 1, 3, 2]) # pairwise weights are symmetric\n",
    "unary = tf.Variable(tf.zeros([n,n,p]))\n",
    "annealing = tf.Variable(tf.zeros([meanfield_iters]))\n",
    "\n",
    "mmmf = mf.BatchedMultiModalMeanField(n, n, p, batch_size, links_sym, unary, tf.exp(annealing), meanfield_iters)\n",
    "\n",
    "q_mf = tf.nn.softmax(-mmmf._theta_mf[-1]) #  sample, each mode, q values.\n",
    "# tf_sample: (s, n, n, p)\n",
    "# q_mf: (s*m, n, n, p)\n",
    "q_mf = tf.reshape(q_mf, (batch_size,-1,n,n,p))\n",
    "\n",
    "# q_mf: (s,m,n,n,p)\n",
    "\n",
    "number_of_modes = tf.shape(q_mf)[1]\n",
    "number_of_samples = tf.shape(tf_samples)[0]\n",
    "tf_samples_stack = tf.tile(tf.expand_dims(tf_samples, 1), [1, number_of_modes, 1, 1, 1]) # of shape s, m, n, n, p\n",
    "prod = tf_samples_stack*q_mf # broadcast magic -> s,m,n,n,p\n",
    "\n",
    "# => log_lh: (s, m)\n",
    "log_lh_samples = tf.reduce_sum(tf.log(tf.reduce_sum(prod,4)+0.0000001), (2,3))\n",
    "#log likelihood for each sample each mode.\n",
    "sample_mode = tf.argmax(log_lh_samples, axis=1)\n",
    "# shape is [number_of_samples]\n",
    "log_lh = tf.reduce_max(log_lh_samples, axis=1)\n",
    "\n",
    "# sum of\n",
    "energies = mmmf.get_modes_energy()\n",
    "modes_prob = mmmf.get_modes_probability()\n",
    "mean_energy = tf.reduce_sum(energies*tf.stop_gradient(modes_prob), axis=1)\n",
    "energy_sample_mode = tf.gather(tf.transpose(energies), sample_mode)\n",
    "\n",
    "to_maximize = tf.reduce_mean(log_lh - energy_sample_mode + mean_energy)\n",
    "mean_log_lh = tf.reduce_mean(log_lh)\n",
    "gradient_total = tf.gradients(to_maximize, [links, unary, annealing])\n",
    "gradient_norm = tf.reduce_sum(tf.abs(gradient_total[0])) + tf.reduce_sum(tf.abs(gradient_total[1])) + tf.reduce_sum(tf.abs(gradient_total[2]))\n",
    "\n",
    "update_rate = learning_rate*batch_size/float(n_samples)\n",
    "\n",
    "update_weights = tf.assign(links, tf.check_numerics(links + update_rate*gradient_total[0],\"weights_upd\"))\n",
    "update_unary = tf.assign(unary, tf.check_numerics(unary + update_rate*gradient_total[1],\"unary_upt\"))\n",
    "update_annealing = tf.assign(annealing, tf.check_numerics(annealing + update_rate*gradient_total[2],\"annealing_upd\"))\n",
    "\n",
    "print('tf graph is built')\n",
    "config = tf.ConfigProto()\n",
    "config.gpu_options.allow_growth = True\n",
    "\n",
    "sess = tf.Session(config=config)\n",
    "sess.run(tf.global_variables_initializer())\n",
    "\n",
    "evol = [[],[],[]]\n",
    "for i in tqdm(range(n_epoch),desc='epoch'):\n",
    "    for b in range(n_samples/batch_size):\n",
    "        #print(np.expand_dims(np.array(inputs[b*batch_size:(b+1)*batch_size]),axis=1).shape)\n",
    "        mmmf.reset_all(np.expand_dims(np.array(inputs[b*batch_size:(b+1)*batch_size]),axis=1))\n",
    "        for _ in range(n_modes): \n",
    "            mmmf.iteration(sess)\n",
    "\n",
    "        parameters = {\n",
    "                    mmmf._theta_clip: np.reshape(mmmf._modes,(-1,2,n,n,p)),\n",
    "                    mmmf._T: 1,\n",
    "                    tf_samples: labels[b*batch_size:(b+1)*batch_size]\n",
    "                }\n",
    "        loglh,loss,gradient,w,u,a = sess.run([mean_log_lh,to_maximize, gradient_norm, update_weights, update_unary, update_annealing], feed_dict=parameters)\n",
    "        evol[0].append(loglh)\n",
    "        evol[1].append(gradient)\n",
    "        evol[2].append(loss)\n",
    "        \n"
   ]
  },
  {
   "cell_type": "code",
   "execution_count": 86,
   "metadata": {},
   "outputs": [
    {
     "data": {
      "text/plain": [
       "array([[1, 2, 0, 0, 0, 2, 2, 2, 2, 2],\n",
       "       [2, 0, 0, 0, 0, 0, 2, 2, 2, 2],\n",
       "       [2, 2, 0, 0, 0, 0, 2, 2, 2, 2],\n",
       "       [2, 2, 2, 0, 0, 0, 0, 2, 2, 2],\n",
       "       [2, 2, 2, 2, 0, 0, 0, 0, 0, 2],\n",
       "       [2, 2, 2, 2, 2, 0, 0, 0, 0, 0],\n",
       "       [0, 2, 2, 2, 2, 2, 0, 0, 0, 0],\n",
       "       [0, 2, 2, 2, 2, 2, 2, 0, 0, 0],\n",
       "       [0, 0, 2, 2, 2, 2, 2, 2, 0, 0],\n",
       "       [0, 0, 0, 0, 2, 2, 2, 2, 2, 0]])"
      ]
     },
     "execution_count": 86,
     "metadata": {},
     "output_type": "execute_result"
    }
   ],
   "source": [
    " parameters = {\n",
    "                    mmmf._theta_clip: np.reshape(mmmf._modes,(-1,2,n,n,p)),\n",
    "                    mmmf._T: 1./10.,\n",
    "                    tf_samples: labels[b*batch_size:(b+1)*batch_size]\n",
    "                }\n",
    "sudoku.infer_grid(sess.run(q_mf[0,1], feed_dict=parameters))"
   ]
  },
  {
   "cell_type": "code",
   "execution_count": 87,
   "metadata": {},
   "outputs": [
    {
     "data": {
      "text/plain": [
       "[<matplotlib.lines.Line2D at 0x7f289f025a90>]"
      ]
     },
     "execution_count": 87,
     "metadata": {},
     "output_type": "execute_result"
    },
    {
     "data": {
      "image/png": "[encoded data removed]",
      "text/plain": [
       "<matplotlib.figure.Figure at 0x7f28c27a48d0>"
      ]
     },
     "metadata": {},
     "output_type": "display_data"
    },
    {
     "data": {
      "image/png": "[encoded data removed]",
      "text/plain": [
       "<matplotlib.figure.Figure at 0x7f28c27a4590>"
      ]
     },
     "metadata": {},
     "output_type": "display_data"
    }
   ],
   "source": [
    "plt.plot(evol[0])\n",
    "plt.figure()\n",
    "plt.plot(evol[1])"
   ]
  },
  {
   "cell_type": "code",
   "execution_count": null,
   "metadata": {
    "collapsed": true
   },
   "outputs": [],
   "source": []
  }
 ],
 "metadata": {
  "kernelspec": {
   "display_name": "Python 2",
   "language": "python",
   "name": "python2"
  },
  "language_info": {
   "codemirror_mode": {
    "name": "ipython",
    "version": 2
   },
   "file_extension": ".py",
   "mimetype": "text/x-python",
   "name": "python",
   "nbconvert_exporter": "python",
   "pygments_lexer": "ipython2",
   "version": "2.7.13"
  }
 },
 "nbformat": 4,
 "nbformat_minor": 2
}
