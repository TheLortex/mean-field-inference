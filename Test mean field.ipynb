{
 "cells": [
  {
   "cell_type": "code",
   "execution_count": 31,
   "metadata": {
    "collapsed": true
   },
   "outputs": [],
   "source": [
    "import tensorflow as tf\n",
    "import mf\n",
    "import sudoku\n",
    "import numpy as np\n",
    "np.set_printoptions(precision=2, suppress=True)"
   ]
  },
  {
   "cell_type": "code",
   "execution_count": 170,
   "metadata": {},
   "outputs": [
    {
     "data": {
      "text/plain": [
       "<module 'mf' from 'mf.pyc'>"
      ]
     },
     "execution_count": 170,
     "metadata": {},
     "output_type": "execute_result"
    }
   ],
   "source": [
    "reload(mf)"
   ]
  },
  {
   "cell_type": "markdown",
   "metadata": {},
   "source": [
    "# Exemple de mean-field multi-filtre"
   ]
  },
  {
   "cell_type": "code",
   "execution_count": null,
   "metadata": {
    "scrolled": true
   },
   "outputs": [
    {
     "name": "stdout",
     "output_type": "stream",
     "text": [
      "(array([[ 0.],\n",
      "       [ 1.],\n",
      "       [ 0.],\n",
      "       [ 0.],\n",
      "       [ 0.],\n",
      "       [ 0.],\n",
      "       [ 1.],\n",
      "       [ 0.],\n",
      "       [ 0.],\n",
      "       [ 0.]], dtype=float32), array([-1.5], dtype=float32), array([[-20.,  20.]], dtype=float32), array([ 0.,  0.], dtype=float32))\n",
      "('E SHAPE', TensorShape([Dimension(2), Dimension(None), Dimension(5), Dimension(5), Dimension(2)]))\n",
      "('UNARY SHAPE', (50, 5, 5, 2))\n",
      "('Q shape', TensorShape([Dimension(None), Dimension(5), Dimension(5), Dimension(2)]))\n"
     ]
    }
   ],
   "source": [
    "mean_field = mf.MeanField(5,5,2,2,1)\n",
    "\n",
    "filter1 = np.zeros((5,5,2,2)) # Valeur identique à celle de ses voisins\n",
    "for x,y in [(-1,0),(1,0),(0,-1),(0,1)]:\n",
    "    for a in range(2):\n",
    "        for b in range(2):\n",
    "            filter1[x,y,a,b] = 1 if a != b else -1\n",
    "filter2 = -filter1 # Filtre opposé.\n",
    "\n",
    "weights = np.zeros((50,2,5,5,2,2),dtype=np.float32)\n",
    "weights[:,0] = filter1\n",
    "weights[:,1] = filter2\n",
    "\n",
    "unary = np.zeros((50,5,5,2),dtype=np.float32)\n",
    "L1 = np.zeros((10,1),dtype=np.float32)\n",
    "L1_b = np.zeros((1),dtype=np.float32)-1.5\n",
    "L2 = np.zeros((1,2),dtype=np.float32)\n",
    "L2_b = np.zeros((2),dtype=np.float32)\n",
    "L1[1,0] =  1\n",
    "L1[6,0] =  1\n",
    "\n",
    "L2[0,0] = -20\n",
    "L2[0,1] =  20\n",
    "\n",
    "FNN = (L1, L1_b, L2, L2_b)\n",
    "theta_mf, energy, theta_clip = mean_field.build_model(5*weights,unary,50,0.05,FNN)"
   ]
  },
  {
   "cell_type": "code",
   "execution_count": null,
   "metadata": {},
   "outputs": [],
   "source": [
    "sess = tf.Session()\n",
    "res,hl,fs = sess.run([tf.nn.softmax(theta_mf), mean_field._hidden_layer, mean_field._filter_selection], feed_dict={theta_clip: np.expand_dims(mean_field.theta_clip_nothing(),0)})"
   ]
  },
  {
   "cell_type": "code",
   "execution_count": null,
   "metadata": {
    "scrolled": true
   },
   "outputs": [],
   "source": [
    "print(res[0,:,:,0])"
   ]
  },
  {
   "cell_type": "code",
   "execution_count": 200,
   "metadata": {},
   "outputs": [
    {
     "name": "stdout",
     "output_type": "stream",
     "text": [
      "[[ 1.  1.  1.  1.  1.]\n",
      " [ 1.  0.  1.  1.  1.]\n",
      " [ 1.  1.  1.  1.  1.]\n",
      " [ 1.  1.  1.  1.  1.]\n",
      " [ 1.  1.  1.  1.  1.]]\n"
     ]
    }
   ],
   "source": [
    "print(fs[:,:,0])"
   ]
  },
  {
   "cell_type": "code",
   "execution_count": 202,
   "metadata": {},
   "outputs": [
    {
     "name": "stdout",
     "output_type": "stream",
     "text": [
      "[[[ 18.1  -18.1 ]\n",
      "  [  9.24  -9.24]\n",
      "  [ 18.1  -18.1 ]\n",
      "  [ 18.1  -18.1 ]\n",
      "  [ 18.1  -18.1 ]]\n",
      "\n",
      " [[  9.24  -9.24]\n",
      "  [ -9.24   9.24]\n",
      "  [  9.24  -9.24]\n",
      "  [  9.24  -9.24]\n",
      "  [  9.24  -9.24]]\n",
      "\n",
      " [[ 18.1  -18.1 ]\n",
      "  [  9.24  -9.24]\n",
      "  [ 18.1  -18.1 ]\n",
      "  [ 18.1  -18.1 ]\n",
      "  [ 18.1  -18.1 ]]\n",
      "\n",
      " [[ 18.1  -18.1 ]\n",
      "  [  9.24  -9.24]\n",
      "  [ 18.1  -18.1 ]\n",
      "  [ 18.1  -18.1 ]\n",
      "  [ 18.1  -18.1 ]]\n",
      "\n",
      " [[ 18.1  -18.1 ]\n",
      "  [  9.24  -9.24]\n",
      "  [ 18.1  -18.1 ]\n",
      "  [ 18.1  -18.1 ]\n",
      "  [ 18.1  -18.1 ]]]\n"
     ]
    }
   ],
   "source": [
    "print(np.tensordot(hl,L2,1))"
   ]
  },
  {
   "cell_type": "code",
   "execution_count": null,
   "metadata": {
    "collapsed": true
   },
   "outputs": [],
   "source": []
  },
  {
   "cell_type": "code",
   "execution_count": null,
   "metadata": {
    "collapsed": true
   },
   "outputs": [],
   "source": []
  },
  {
   "cell_type": "code",
   "execution_count": null,
   "metadata": {
    "collapsed": true
   },
   "outputs": [],
   "source": []
  },
  {
   "cell_type": "code",
   "execution_count": null,
   "metadata": {
    "collapsed": true
   },
   "outputs": [],
   "source": []
  }
 ],
 "metadata": {
  "kernelspec": {
   "display_name": "Python 2",
   "language": "python",
   "name": "python2"
  },
  "language_info": {
   "codemirror_mode": {
    "name": "ipython",
    "version": 2
   },
   "file_extension": ".py",
   "mimetype": "text/x-python",
   "name": "python",
   "nbconvert_exporter": "python",
   "pygments_lexer": "ipython2",
   "version": "2.7.13"
  }
 },
 "nbformat": 4,
 "nbformat_minor": 2
}
